{
  "cells": [
    {
      "cell_type": "code",
      "execution_count": 1,
      "metadata": {
        "id": "kzrmrfuIvbUe"
      },
      "outputs": [],
      "source": [
        "%matplotlib inline"
      ]
    },
    {
      "cell_type": "markdown",
      "metadata": {
        "id": "I2vIb6eEvbUi"
      },
      "source": [
        "\n",
        "# Training a CNN Classifier\n",
        "\n",
        "You have seen the concepts of convolution neural networks. Let's try to implement it.\n",
        "\n",
        "Now you might be thinking,\n",
        "\n",
        "## What about data?\n",
        "\n",
        "Generally, when you have to deal with image, text, audio or video data,\n",
        "you can use standard python packages that load data into a numpy array.\n",
        "Then you can convert this array into a ``torch.*Tensor``.\n",
        "\n",
        "-  For images, packages such as Pillow, OpenCV are useful\n",
        "-  For audio, packages such as scipy and librosa\n",
        "-  For text, either raw Python or Cython based loading, or NLTK and\n",
        "   SpaCy are useful\n",
        "\n",
        "Specifically for vision, we have created a package called\n",
        "``torchvision``, that has data loaders for common datasets such as\n",
        "ImageNet, CIFAR10, MNIST, etc. and data transformers for images, viz.,\n",
        "``torchvision.datasets`` and ``torch.utils.data.DataLoader``.\n",
        "\n",
        "This provides a huge convenience and avoids writing boilerplate code.\n",
        "\n",
        "For this tutorial, we will use the CIFAR10 dataset.\n",
        "It has the classes: ‘airplane’, ‘automobile’, ‘bird’, ‘cat’, ‘deer’,\n",
        "‘dog’, ‘frog’, ‘horse’, ‘ship’, ‘truck’. The images in CIFAR-10 are of\n",
        "size 3x32x32, i.e. 3-channel color images of 32x32 pixels in size.\n",
        "\n",
        ".. figure:: /_static/img/cifar10.png\n",
        "   :alt: cifar10\n",
        "\n",
        "   cifar10\n",
        "\n",
        "\n",
        "## Training an linear image classifier\n",
        "\n",
        "We will do the following steps in order:\n",
        "\n",
        "1. Load and normalize the CIFAR10 training and test datasets using\n",
        "   ``torchvision``\n",
        "2. **Define a linear softmax classifer (your task)**\n",
        "\n",
        "3. **Define a loss function (your task)**\n",
        "4. **Train the classifer on the training data**\n",
        "5. **Test the classifer on the test data**\n",
        "\n",
        "### 1. Load and normalize CIFAR10\n",
        "\n",
        "Using ``torchvision``, it’s extremely easy to load CIFAR10.\n"
      ]
    },
    {
      "cell_type": "code",
      "source": [
        "#Homework 3: CNN Classifier\n",
        "#Sourav Joshi\n"
      ],
      "metadata": {
        "id": "9L-DiKyyTp3_"
      },
      "execution_count": 2,
      "outputs": []
    },
    {
      "cell_type": "code",
      "execution_count": 3,
      "metadata": {
        "id": "PHmqbtVTvbUn"
      },
      "outputs": [],
      "source": [
        "import torch\n",
        "import torchvision\n",
        "import torchvision.transforms as transforms"
      ]
    },
    {
      "cell_type": "markdown",
      "metadata": {
        "id": "Am3zNtHuvbUp"
      },
      "source": [
        "The output of torchvision datasets are PILImage images of range [0, 1].\n",
        "We transform them to Tensors of normalized range [-1, 1].\n",
        "\n"
      ]
    },
    {
      "cell_type": "markdown",
      "metadata": {
        "id": "1lXGcpcMvbUr"
      },
      "source": [
        "<div class=\"alert alert-info\"><h4>Note</h4><p>If running on Windows and you get a BrokenPipeError, try setting\n",
        "    the num_worker of torch.utils.data.DataLoader() to 0.</p></div>\n",
        "\n"
      ]
    },
    {
      "cell_type": "code",
      "execution_count": 4,
      "metadata": {
        "colab": {
          "base_uri": "https://localhost:8080/"
        },
        "id": "9bJRpW3ovbUs",
        "outputId": "e4074957-afbb-453d-af0f-1c3420c23f27"
      },
      "outputs": [
        {
          "output_type": "stream",
          "name": "stdout",
          "text": [
            "Downloading https://www.cs.toronto.edu/~kriz/cifar-10-python.tar.gz to ./data/cifar-10-python.tar.gz\n"
          ]
        },
        {
          "output_type": "stream",
          "name": "stderr",
          "text": [
            "100%|██████████| 170498071/170498071 [00:02<00:00, 62441759.20it/s]\n"
          ]
        },
        {
          "output_type": "stream",
          "name": "stdout",
          "text": [
            "Extracting ./data/cifar-10-python.tar.gz to ./data\n",
            "Files already downloaded and verified\n"
          ]
        }
      ],
      "source": [
        "transform = transforms.Compose(\n",
        "    [transforms.ToTensor(),\n",
        "     transforms.Normalize((0.5, 0.5, 0.5), (0.5, 0.5, 0.5))])\n",
        "\n",
        "batch_size = 4\n",
        "\n",
        "trainset = torchvision.datasets.CIFAR10(root='./data', train=True,\n",
        "                                        download=True, transform=transform)\n",
        "trainloader = torch.utils.data.DataLoader(trainset, batch_size=batch_size,\n",
        "                                          shuffle=True, num_workers=2)\n",
        "\n",
        "testset = torchvision.datasets.CIFAR10(root='./data', train=False,\n",
        "                                       download=True, transform=transform)\n",
        "testloader = torch.utils.data.DataLoader(testset, batch_size=batch_size,\n",
        "                                         shuffle=False, num_workers=2)\n",
        "\n",
        "classes = ('plane', 'car', 'bird', 'cat',\n",
        "           'deer', 'dog', 'frog', 'horse', 'ship', 'truck')"
      ]
    },
    {
      "cell_type": "markdown",
      "metadata": {
        "id": "6Si649EtvbUt"
      },
      "source": [
        "Let us show some of the training images, for fun.\n",
        "\n"
      ]
    },
    {
      "cell_type": "code",
      "execution_count": 5,
      "metadata": {
        "colab": {
          "base_uri": "https://localhost:8080/",
          "height": 210
        },
        "id": "QO4DbOpNvbUt",
        "outputId": "0c6524ce-f850-44ce-e2de-3955eeaf93f8"
      },
      "outputs": [
        {
          "output_type": "display_data",
          "data": {
            "text/plain": [
              "<Figure size 640x480 with 1 Axes>"
            ],
            "image/png": "[encoded data removed]"
          },
          "metadata": {}
        },
        {
          "output_type": "stream",
          "name": "stdout",
          "text": [
            "bird  dog   ship  horse\n"
          ]
        }
      ],
      "source": [
        "import matplotlib.pyplot as plt\n",
        "import numpy as np\n",
        "\n",
        "# functions to show an image\n",
        "\n",
        "\n",
        "def imshow(img):\n",
        "    img = img / 2 + 0.5     # unnormalize\n",
        "    npimg = img.numpy()\n",
        "    plt.imshow(np.transpose(npimg, (1, 2, 0)))\n",
        "    plt.show()\n",
        "\n",
        "\n",
        "# get some random training images\n",
        "dataiter = iter(trainloader)\n",
        "images, labels = next(dataiter)\n",
        "\n",
        "# show images\n",
        "imshow(torchvision.utils.make_grid(images))\n",
        "# print labels\n",
        "print(' '.join(f'{classes[labels[j]]:5s}' for j in range(batch_size)))"
      ]
    },
    {
      "cell_type": "markdown",
      "metadata": {
        "id": "Rw2C8rqUvbUu"
      },
      "source": [
        "### 2. Define your CNN classifer\n",
        "Define your CNN classfier here. (4 points)"
      ]
    },
    {
      "cell_type": "code",
      "execution_count": 6,
      "metadata": {
        "id": "Gtd8SgBqvbUv"
      },
      "outputs": [],
      "source": [
        "import torch.nn as nn\n",
        "import torch.nn.functional as F\n",
        "\n",
        "# Define the model architecture\n",
        "class Net(nn.Module):\n",
        "   def __init__(self):\n",
        "       super(Net, self).__init__()\n",
        "\n",
        "       # Convolutional layers (feature extraction)\n",
        "       # -----------------------------------------\n",
        "       # Input: 3-channel images (assuming RGB format)\n",
        "       self.conv1 = nn.Conv2d(3, 16, kernel_size=3, padding=1)  # 16 filters, 3x3 kernel, padding to preserve spatial dimensions\n",
        "       self.conv2 = nn.Conv2d(16, 32, kernel_size=3, padding=1)  # 32 filters, 3x3 kernel\n",
        "\n",
        "       # Max-pooling layer (downsampling)\n",
        "       # -------------------------------\n",
        "       self.pool = nn.MaxPool2d(2, 2)  # Reduce spatial dimensions by a factor of 2\n",
        "\n",
        "       # Fully connected layers (classification)\n",
        "       # ----------------------------------------\n",
        "       # Assuming input image size is 32x32 after max-pooling\n",
        "       self.fc1 = nn.Linear(32 * 8 * 8, 128)\n",
        "       self.fc2 = nn.Linear(128, 10)  # Output 10 classes for CIFAR-10\n",
        "\n",
        "   def forward(self, x):\n",
        "       # Feature extraction through convolutional layers\n",
        "       # -----------------------------------------------\n",
        "       x = self.pool(F.relu(self.conv1(x)))  # ReLU activation after first convolution\n",
        "       x = self.pool(F.relu(self.conv2(x)))  # ReLU activation after second convolution\n",
        "\n",
        "       # Flatten the output for fully connected layers\n",
        "       # ------------------------------------------\n",
        "       x = x.view(-1, 32 * 8 * 8)\n",
        "\n",
        "       # Classification through fully connected layers\n",
        "       # ------------------------------------------\n",
        "       x = F.relu(self.fc1(x))  # ReLU activation after first dense layer\n",
        "       x = self.fc2(x)  # No activation for final output (logits)\n",
        "       return x\n",
        "\n",
        "# Instantiate the model\n",
        "net = Net()  # Create an instance of the defined CNN architecture\n"
      ]
    },
    {
      "cell_type": "markdown",
      "metadata": {
        "id": "grgAxU7MvbUw"
      },
      "source": [
        "### 3. Define a Loss function and optimizer\n",
        "For example, let's use a Classification Cross-Entropy loss and SGD with momentum. Notice that if you need to use different loss functions.\n",
        "\n"
      ]
    },
    {
      "cell_type": "code",
      "execution_count": 7,
      "metadata": {
        "id": "eTW64kuEvbUx"
      },
      "outputs": [],
      "source": [
        "import torch.optim as optim\n",
        "\n",
        "criterion = nn.CrossEntropyLoss()\n",
        "optimizer = optim.SGD(net.parameters(), lr=0.001, momentum=0.9)"
      ]
    },
    {
      "cell_type": "markdown",
      "metadata": {
        "id": "z0wctcBevbUx"
      },
      "source": [
        "### 4. Train the classifier\n",
        "\n",
        "This is when things start to get interesting.\n",
        "We simply have to loop over our data iterator, and feed the inputs to the\n",
        "classifier and optimize.\n",
        "\n"
      ]
    },
    {
      "cell_type": "code",
      "execution_count": 8,
      "metadata": {
        "id": "44cpYIl7vbUy",
        "colab": {
          "base_uri": "https://localhost:8080/"
        },
        "outputId": "c2068a66-840c-4ebe-bcd6-fb00a4096321"
      },
      "outputs": [
        {
          "output_type": "stream",
          "name": "stdout",
          "text": [
            "[1,  2000] loss: 1.997\n",
            "[1,  4000] loss: 1.603\n",
            "[1,  6000] loss: 1.456\n",
            "[1,  8000] loss: 1.367\n",
            "[1, 10000] loss: 1.266\n",
            "[1, 12000] loss: 1.204\n",
            "[2,  2000] loss: 1.119\n",
            "[2,  4000] loss: 1.103\n",
            "[2,  6000] loss: 1.060\n",
            "[2,  8000] loss: 1.025\n",
            "[2, 10000] loss: 0.985\n",
            "[2, 12000] loss: 0.994\n",
            "Finished Training\n"
          ]
        }
      ],
      "source": [
        "for epoch in range(2):  # loop over the dataset multiple times\n",
        "\n",
        "    running_loss = 0.0\n",
        "    for i, data in enumerate(trainloader, 0):\n",
        "        # get the inputs; data is a list of [inputs, labels]\n",
        "        inputs, labels = data\n",
        "\n",
        "        # zero the parameter gradients\n",
        "        optimizer.zero_grad()\n",
        "\n",
        "        # forward + backward + optimize\n",
        "        outputs = net(inputs)\n",
        "        loss = criterion(outputs, labels)\n",
        "        loss.backward()\n",
        "        optimizer.step()\n",
        "\n",
        "        # print statistics\n",
        "        running_loss += loss.item()\n",
        "        if i % 2000 == 1999:    # print every 2000 mini-batches\n",
        "            print(f'[{epoch + 1}, {i + 1:5d}] loss: {running_loss / 2000:.3f}')\n",
        "            running_loss = 0.0\n",
        "\n",
        "print('Finished Training')"
      ]
    },
    {
      "cell_type": "markdown",
      "metadata": {
        "id": "vm5vbyZ2vbUy"
      },
      "source": [
        "Let's quickly save our trained model:\n",
        "\n"
      ]
    },
    {
      "cell_type": "code",
      "execution_count": 9,
      "metadata": {
        "id": "8522XFyXvbUy"
      },
      "outputs": [],
      "source": [
        "PATH = './cifar_net.pth'\n",
        "torch.save(net.state_dict(), PATH)"
      ]
    },
    {
      "cell_type": "markdown",
      "metadata": {
        "id": "_Wpal5_CvbUz"
      },
      "source": [
        "See [here](https://pytorch.org/docs/stable/notes/serialization.html)\n",
        "for more details on saving PyTorch models.\n",
        "\n",
        "### 5. Test the classifier on the test data\n",
        "\n",
        "We have trained the classifier for 2 passes over the training dataset.\n",
        "But we need to check if the classifier has learnt anything at all.\n",
        "\n",
        "We will check this by predicting the class label that the classifier\n",
        "outputs, and checking it against the ground-truth. If the prediction is\n",
        "correct, we add the sample to the list of correct predictions.\n",
        "\n",
        "Okay, first step. Let us display an image from the test set to get familiar.\n",
        "\n"
      ]
    },
    {
      "cell_type": "code",
      "execution_count": 10,
      "metadata": {
        "id": "DxtKs0xdvbUz",
        "colab": {
          "base_uri": "https://localhost:8080/",
          "height": 210
        },
        "outputId": "c726d9b7-53bc-4294-fb8d-07874c52629f"
      },
      "outputs": [
        {
          "output_type": "display_data",
          "data": {
            "text/plain": [
              "<Figure size 640x480 with 1 Axes>"
            ],
            "image/png": "[encoded data removed]"
          },
          "metadata": {}
        },
        {
          "output_type": "stream",
          "name": "stdout",
          "text": [
            "GroundTruth:  cat   ship  ship  plane\n"
          ]
        }
      ],
      "source": [
        "dataiter = iter(testloader)\n",
        "images, labels = next(dataiter)\n",
        "\n",
        "# print images\n",
        "imshow(torchvision.utils.make_grid(images))\n",
        "print('GroundTruth: ', ' '.join(f'{classes[labels[j]]:5s}' for j in range(4)))"
      ]
    },
    {
      "cell_type": "markdown",
      "metadata": {
        "id": "PIfHQMt6vbUz"
      },
      "source": [
        "Next, let's load back in our saved model (note: saving and re-loading the model\n",
        "wasn't necessary here, we only did it to illustrate how to do so):\n",
        "\n"
      ]
    },
    {
      "cell_type": "code",
      "execution_count": 11,
      "metadata": {
        "id": "KNg5mlMDvbUz",
        "colab": {
          "base_uri": "https://localhost:8080/"
        },
        "outputId": "cc110c37-d756-4fa9-a434-49cbfa84acd3"
      },
      "outputs": [
        {
          "output_type": "execute_result",
          "data": {
            "text/plain": [
              "<All keys matched successfully>"
            ]
          },
          "metadata": {},
          "execution_count": 11
        }
      ],
      "source": [
        "net = Net()\n",
        "net.load_state_dict(torch.load(PATH))"
      ]
    },
    {
      "cell_type": "markdown",
      "metadata": {
        "id": "IKgTQXqnvbUz"
      },
      "source": [
        "Okay, now let us see what the classifier thinks these examples above are:\n",
        "\n"
      ]
    },
    {
      "cell_type": "code",
      "execution_count": 12,
      "metadata": {
        "id": "oJ5RbJSZvbU0"
      },
      "outputs": [],
      "source": [
        "outputs = net(images)"
      ]
    },
    {
      "cell_type": "markdown",
      "metadata": {
        "id": "09z_w-lovbU0"
      },
      "source": [
        "The outputs are energies for the 10 classes.\n",
        "The higher the energy for a class, the more the classifier\n",
        "thinks that the image is of the particular class.\n",
        "So, let's get the index of the highest energy:\n",
        "\n"
      ]
    },
    {
      "cell_type": "code",
      "execution_count": 13,
      "metadata": {
        "id": "fTNwBrbDvbU0",
        "colab": {
          "base_uri": "https://localhost:8080/"
        },
        "outputId": "27cd5593-b4f2-4713-ce93-c6fe03088bf6"
      },
      "outputs": [
        {
          "output_type": "stream",
          "name": "stdout",
          "text": [
            "Predicted:  cat   ship  ship  ship \n"
          ]
        }
      ],
      "source": [
        "_, predicted = torch.max(outputs, 1)\n",
        "\n",
        "print('Predicted: ', ' '.join(f'{classes[predicted[j]]:5s}'\n",
        "                              for j in range(4)))"
      ]
    },
    {
      "cell_type": "markdown",
      "metadata": {
        "id": "gb0opVD_vbU0"
      },
      "source": [
        "\n",
        "\n",
        "Let us look at how the classifier performs on the whole dataset.\n",
        "\n"
      ]
    },
    {
      "cell_type": "code",
      "execution_count": 14,
      "metadata": {
        "id": "tXz22d3gvbU1",
        "colab": {
          "base_uri": "https://localhost:8080/"
        },
        "outputId": "3182b5f4-2f9d-44f4-ac79-fa0988a2772f"
      },
      "outputs": [
        {
          "output_type": "stream",
          "name": "stdout",
          "text": [
            "Accuracy of the classifier on the 10000 test images: 65 %\n"
          ]
        }
      ],
      "source": [
        "correct = 0\n",
        "total = 0\n",
        "# since we're not training, we don't need to calculate the gradients for our outputs\n",
        "with torch.no_grad():\n",
        "    for data in testloader:\n",
        "        images, labels = data\n",
        "        # calculate outputs by running images through the classifier\n",
        "        outputs = net(images)\n",
        "        # the class with the highest energy is what we choose as prediction\n",
        "        _, predicted = torch.max(outputs.data, 1)\n",
        "        total += labels.size(0)\n",
        "        correct += (predicted == labels).sum().item()\n",
        "\n",
        "print(f'Accuracy of the classifier on the 10000 test images: {100 * correct // total} %')"
      ]
    },
    {
      "cell_type": "markdown",
      "metadata": {
        "id": "Jr3OenvevbU1"
      },
      "source": [
        "That looks way better than chance, which is 10% accuracy (randomly picking\n",
        "a class out of 10 classes).\n",
        "Seems like the classifier learnt something.\n",
        "\n",
        "Hmmm, what are the classes that performed well, and the classes that did\n",
        "not perform well:\n",
        "\n"
      ]
    },
    {
      "cell_type": "code",
      "execution_count": 15,
      "metadata": {
        "id": "ME-zLM3OvbU1",
        "colab": {
          "base_uri": "https://localhost:8080/"
        },
        "outputId": "28488b73-582b-41d2-bb5b-360b28a050cd"
      },
      "outputs": [
        {
          "output_type": "stream",
          "name": "stdout",
          "text": [
            "Accuracy for class: plane is 68.9 %\n",
            "Accuracy for class: car   is 80.9 %\n",
            "Accuracy for class: bird  is 52.0 %\n",
            "Accuracy for class: cat   is 29.1 %\n",
            "Accuracy for class: deer  is 66.9 %\n",
            "Accuracy for class: dog   is 62.9 %\n",
            "Accuracy for class: frog  is 81.9 %\n",
            "Accuracy for class: horse is 64.3 %\n",
            "Accuracy for class: ship  is 82.6 %\n",
            "Accuracy for class: truck is 70.3 %\n"
          ]
        }
      ],
      "source": [
        "# prepare to count predictions for each class\n",
        "correct_pred = {classname: 0 for classname in classes}\n",
        "total_pred = {classname: 0 for classname in classes}\n",
        "\n",
        "# again no gradients needed\n",
        "with torch.no_grad():\n",
        "    for data in testloader:\n",
        "        images, labels = data\n",
        "        outputs = net(images)\n",
        "        _, predictions = torch.max(outputs, 1)\n",
        "        # collect the correct predictions for each class\n",
        "        for label, prediction in zip(labels, predictions):\n",
        "            if label == prediction:\n",
        "                correct_pred[classes[label]] += 1\n",
        "            total_pred[classes[label]] += 1\n",
        "\n",
        "\n",
        "# print accuracy for each class\n",
        "for classname, correct_count in correct_pred.items():\n",
        "    accuracy = 100 * float(correct_count) / total_pred[classname]\n",
        "    print(f'Accuracy for class: {classname:5s} is {accuracy:.1f} %')\n",
        "\n",
        "\n"
      ]
    },
    {
      "cell_type": "markdown",
      "metadata": {
        "id": "ZT7jrN4eNyRk"
      },
      "source": [
        "Compare the results of linear classifier and CNN classifier:\n",
        "1. Please plot the training losses of linear classifier and CNN classifier (3 points)\n",
        "2. Show the test accuracy of linear classifer and CNN classifier (3 points)"
      ]
    },
    {
      "cell_type": "code",
      "source": [
        "#The Training losses and accuracies are shown below"
      ],
      "metadata": {
        "id": "pg3jxC-IiySl"
      },
      "execution_count": 16,
      "outputs": []
    },
    {
      "cell_type": "markdown",
      "metadata": {
        "id": "wjaDiMrsNyRk"
      },
      "source": []
    },
    {
      "cell_type": "code",
      "source": [
        "import matplotlib.pyplot as plt\n",
        "\n",
        "# Training losses for the linear classifier\n",
        "# These values are taken from Homework 2\n",
        "linear_model_losses = [\n",
        "    2.162, 2.113, 2.094, 2.081, 2.077, 2.076, 2.057, 2.063, 2.056, 2.058, 2.056, 2.049\n",
        "]\n",
        "\n",
        "# Training losses for the CNN classifier\n",
        "cnn_model_losses = [\n",
        "1.997, 1.603, 1.456, 1.367, 1.266, 1.204, 1.119, 1.103, 1.060, 1.025, 0.985, 0.994]\n",
        "\n",
        "# List of epochs corresponding to the losses\n",
        "epochs = range(1, len(linear_model_losses) + 1)\n",
        "\n",
        "# Create the plot\n",
        "plt.plot(epochs, linear_model_losses, label='Linear Classifier')\n",
        "plt.plot(epochs, cnn_model_losses, label='CNN Classifier')\n",
        "\n",
        "# labels and title\n",
        "plt.title('Training Losses Comparison')\n",
        "plt.xlabel('Epoch')\n",
        "plt.ylabel('Loss')\n",
        "\n",
        "# Legend to distinguish the lines\n",
        "plt.legend()\n",
        "\n",
        "# Display the plot\n",
        "plt.show()\n"
      ],
      "metadata": {
        "colab": {
          "base_uri": "https://localhost:8080/",
          "height": 472
        },
        "id": "rEQmBo7j5El6",
        "outputId": "0683af6c-b12f-440a-f88e-2e580b121ee0"
      },
      "execution_count": 17,
      "outputs": [
        {
          "output_type": "display_data",
          "data": {
            "text/plain": [
              "<Figure size 640x480 with 1 Axes>"
            ],
            "image/png": "[encoded data removed]"
          },
          "metadata": {}
        }
      ]
    },
    {
      "cell_type": "code",
      "source": [
        "# Value taken from Homework 2.\n",
        "# Accuracy of the linear classifier\n",
        "linear_classifier_accuracy = 39\n",
        "\n",
        "# accuracy of the CNN classifier as calculated above\n",
        "cnn_classifier_accuracy = 100 * correct / total\n",
        "\n",
        "# List of classifier labels for the bar chart\n",
        "labels = ['Linear Classifier', 'CNN Classifier']\n",
        "\n",
        "# List of accuracy values for each classifier\n",
        "accuracies = [linear_classifier_accuracy, cnn_classifier_accuracy]\n",
        "\n",
        "# Create a bar chart to compare accuracy\n",
        "plt.bar(labels, accuracies, color=['green', 'red'])\n",
        "\n",
        "# Set the title of the plot\n",
        "plt.title('Test Accuracy Comparison')\n",
        "\n",
        "# Set labels for the x-axis (classifier) and y-axis (accuracy)\n",
        "plt.xlabel('Classifier')\n",
        "plt.ylabel('Accuracy (%)')\n",
        "\n",
        "# Set the y-axis limits to display the full range of accuracy (0-100%)\n",
        "plt.ylim(0, 100)\n",
        "\n",
        "# Display the plot\n",
        "plt.show()\n"
      ],
      "metadata": {
        "colab": {
          "base_uri": "https://localhost:8080/",
          "height": 472
        },
        "id": "teoKvcgNAbuk",
        "outputId": "e037f326-7bc3-4fbd-c3d0-a8d833de47ad"
      },
      "execution_count": 18,
      "outputs": [
        {
          "output_type": "display_data",
          "data": {
            "text/plain": [
              "<Figure size 640x480 with 1 Axes>"
            ],
            "image/png": "[encoded data removed]"
          },
          "metadata": {}
        }
      ]
    },
    {
      "cell_type": "code",
      "source": [
        "import matplotlib.pyplot as plt\n",
        "import numpy as np\n",
        "\n",
        "# List of object class names\n",
        "classes = ['plane', 'car', 'bird', 'cat', 'deer', 'dog', 'frog', 'horse', 'ship', 'truck']\n",
        "\n",
        "# Accuracy of the linear classifier for each class.\n",
        "# Taken from Homework 2\n",
        "linear_classifier_accuracies = [41.1, 44.7, 25.0, 13.7, 28.1, 39.6, 28.8, 44.4, 56.7, 47.0]\n",
        "\n",
        "# prepare to count predictions for each class\n",
        "correct_pred = {classname: 0 for classname in classes}\n",
        "total_pred = {classname: 0 for classname in classes}\n",
        "\n",
        "# again no gradients needed\n",
        "with torch.no_grad():\n",
        "    for data in testloader:\n",
        "        images, labels = data\n",
        "        outputs = net(images)\n",
        "        _, predictions = torch.max(outputs, 1)\n",
        "        # collect the correct predictions for each class\n",
        "        for label, prediction in zip(labels, predictions):\n",
        "            if label == prediction:\n",
        "                correct_pred[classes[label]] += 1\n",
        "            total_pred[classes[label]] += 1\n",
        "\n",
        "# Accuracy of the CNN classifier for each class\n",
        "cnn_classifier_accuracies = [100 * float(correct_pred[classname]) / total_pred[classname] for classname in classes]\n",
        "\n",
        "# Width of each bar in the chart\n",
        "bar_width = 0.25\n",
        "\n",
        "# Create an array of indices for the x-axis (one for each class)\n",
        "index = np.arange(len(classes))\n",
        "\n",
        "# Create bar charts for each classifier's accuracy, side-by-side\n",
        "plt.bar(index, linear_classifier_accuracies, bar_width, label='Linear Classifier', color='green')\n",
        "plt.bar(index + bar_width, cnn_classifier_accuracies, bar_width, label='CNN Classifier', color='red')\n",
        "\n",
        "# Set labels for the x and y axes\n",
        "plt.xlabel('Classes')\n",
        "plt.ylabel('Accuracy (%)')\n",
        "\n",
        "# Set the title of the chart\n",
        "plt.title('Accuracy for Each Class Comparison')\n",
        "\n",
        "# Set x-axis tick marks and labels (class names) with appropriate positioning\n",
        "plt.xticks(index + bar_width / 2, classes)\n",
        "\n",
        "# Add a legend to distinguish the bars for each classifier\n",
        "plt.legend()\n",
        "\n",
        "# Display the generated bar chart\n",
        "plt.show()\n",
        "\n"
      ],
      "metadata": {
        "colab": {
          "base_uri": "https://localhost:8080/",
          "height": 472
        },
        "id": "TbKvW6BXA40L",
        "outputId": "63eecd8e-172d-4d41-c48e-03ec47bd1e9e"
      },
      "execution_count": 19,
      "outputs": [
        {
          "output_type": "display_data",
          "data": {
            "text/plain": [
              "<Figure size 640x480 with 1 Axes>"
            ],
            "image/png": "[encoded data removed]"
          },
          "metadata": {}
        }
      ]
    }
  ],
  "metadata": {
    "colab": {
      "provenance": []
    },
    "kernelspec": {
      "display_name": "Python 3",
      "language": "python",
      "name": "python3"
    },
    "language_info": {
      "codemirror_mode": {
        "name": "ipython",
        "version": 3
      },
      "file_extension": ".py",
      "mimetype": "text/x-python",
      "name": "python",
      "nbconvert_exporter": "python",
      "pygments_lexer": "ipython3",
      "version": "3.10.8"
    }
  },
  "nbformat": 4,
  "nbformat_minor": 0
}